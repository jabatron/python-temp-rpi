{
 "cells": [
  {
   "cell_type": "code",
   "execution_count": 5,
   "metadata": {},
   "outputs": [
    {
     "ename": "ModuleNotFoundError",
     "evalue": "No module named 'ping'",
     "output_type": "error",
     "traceback": [
      "\u001b[1;31m---------------------------------------------------------------------------\u001b[0m",
      "\u001b[1;31mModuleNotFoundError\u001b[0m                       Traceback (most recent call last)",
      "\u001b[1;32m<ipython-input-5-135dd1e79b0c>\u001b[0m in \u001b[0;36m<module>\u001b[1;34m\u001b[0m\n\u001b[1;32m----> 1\u001b[1;33m \u001b[1;32mimport\u001b[0m \u001b[0mping\u001b[0m\u001b[1;33m\u001b[0m\u001b[1;33m\u001b[0m\u001b[0m\n\u001b[0m",
      "\u001b[1;31mModuleNotFoundError\u001b[0m: No module named 'ping'"
     ]
    }
   ],
   "source": [
    "import ping"
   ]
  },
  {
   "cell_type": "code",
   "execution_count": 22,
   "metadata": {},
   "outputs": [],
   "source": [
    "from scapy.all import *\n"
   ]
  },
  {
   "cell_type": "code",
   "execution_count": 20,
   "metadata": {},
   "outputs": [],
   "source": [
    "request = IP(dst='www.google.es')/ICMP()"
   ]
  },
  {
   "cell_type": "code",
   "execution_count": 23,
   "metadata": {},
   "outputs": [
    {
     "ename": "OSError",
     "evalue": "Windows native L3 Raw sockets are only usable as administrator ! Install Winpcap/Npcap to workaround !",
     "output_type": "error",
     "traceback": [
      "\u001b[1;31m---------------------------------------------------------------------------\u001b[0m",
      "\u001b[1;31mOSError\u001b[0m                                   Traceback (most recent call last)",
      "\u001b[1;32m~\\AppData\\Roaming\\Python\\Python38\\site-packages\\scapy\\arch\\windows\\native.py\u001b[0m in \u001b[0;36m__init__\u001b[1;34m(self, iface, proto, ttl, ipv6, promisc, **kwargs)\u001b[0m\n\u001b[0;32m     94\u001b[0m         \u001b[1;32mtry\u001b[0m\u001b[1;33m:\u001b[0m\u001b[1;33m\u001b[0m\u001b[1;33m\u001b[0m\u001b[0m\n\u001b[1;32m---> 95\u001b[1;33m             self.ins = socket.socket(af,\n\u001b[0m\u001b[0;32m     96\u001b[0m                                      \u001b[0msocket\u001b[0m\u001b[1;33m.\u001b[0m\u001b[0mSOCK_RAW\u001b[0m\u001b[1;33m,\u001b[0m\u001b[1;33m\u001b[0m\u001b[1;33m\u001b[0m\u001b[0m\n",
      "\u001b[1;32mc:\\program files\\python38\\lib\\socket.py\u001b[0m in \u001b[0;36m__init__\u001b[1;34m(self, family, type, proto, fileno)\u001b[0m\n\u001b[0;32m    230\u001b[0m                 \u001b[0mproto\u001b[0m \u001b[1;33m=\u001b[0m \u001b[1;36m0\u001b[0m\u001b[1;33m\u001b[0m\u001b[1;33m\u001b[0m\u001b[0m\n\u001b[1;32m--> 231\u001b[1;33m         \u001b[0m_socket\u001b[0m\u001b[1;33m.\u001b[0m\u001b[0msocket\u001b[0m\u001b[1;33m.\u001b[0m\u001b[0m__init__\u001b[0m\u001b[1;33m(\u001b[0m\u001b[0mself\u001b[0m\u001b[1;33m,\u001b[0m \u001b[0mfamily\u001b[0m\u001b[1;33m,\u001b[0m \u001b[0mtype\u001b[0m\u001b[1;33m,\u001b[0m \u001b[0mproto\u001b[0m\u001b[1;33m,\u001b[0m \u001b[0mfileno\u001b[0m\u001b[1;33m)\u001b[0m\u001b[1;33m\u001b[0m\u001b[1;33m\u001b[0m\u001b[0m\n\u001b[0m\u001b[0;32m    232\u001b[0m         \u001b[0mself\u001b[0m\u001b[1;33m.\u001b[0m\u001b[0m_io_refs\u001b[0m \u001b[1;33m=\u001b[0m \u001b[1;36m0\u001b[0m\u001b[1;33m\u001b[0m\u001b[1;33m\u001b[0m\u001b[0m\n",
      "\u001b[1;31mOSError\u001b[0m: [WinError 10013] Intento de acceso a un socket no permitido por sus permisos de acceso",
      "\nDuring handling of the above exception, another exception occurred:\n",
      "\u001b[1;31mOSError\u001b[0m                                   Traceback (most recent call last)",
      "\u001b[1;32m<ipython-input-23-f136b18748ac>\u001b[0m in \u001b[0;36m<module>\u001b[1;34m\u001b[0m\n\u001b[1;32m----> 1\u001b[1;33m \u001b[0msr1\u001b[0m\u001b[1;33m(\u001b[0m\u001b[0mrequest\u001b[0m\u001b[1;33m)\u001b[0m\u001b[1;33m\u001b[0m\u001b[1;33m\u001b[0m\u001b[0m\n\u001b[0m",
      "\u001b[1;32m~\\AppData\\Roaming\\Python\\Python38\\site-packages\\scapy\\sendrecv.py\u001b[0m in \u001b[0;36msr1\u001b[1;34m(x, promisc, filter, iface, nofilter, *args, **kargs)\u001b[0m\n\u001b[0;32m    534\u001b[0m     \"\"\"\n\u001b[0;32m    535\u001b[0m     \u001b[0miface\u001b[0m \u001b[1;33m=\u001b[0m \u001b[0m_interface_selection\u001b[0m\u001b[1;33m(\u001b[0m\u001b[0miface\u001b[0m\u001b[1;33m,\u001b[0m \u001b[0mx\u001b[0m\u001b[1;33m)\u001b[0m\u001b[1;33m\u001b[0m\u001b[1;33m\u001b[0m\u001b[0m\n\u001b[1;32m--> 536\u001b[1;33m     s = conf.L3socket(promisc=promisc, filter=filter,\n\u001b[0m\u001b[0;32m    537\u001b[0m                       nofilter=nofilter, iface=iface)\n\u001b[0;32m    538\u001b[0m     \u001b[0mans\u001b[0m\u001b[1;33m,\u001b[0m \u001b[0m_\u001b[0m \u001b[1;33m=\u001b[0m \u001b[0msndrcv\u001b[0m\u001b[1;33m(\u001b[0m\u001b[0ms\u001b[0m\u001b[1;33m,\u001b[0m \u001b[0mx\u001b[0m\u001b[1;33m,\u001b[0m \u001b[1;33m*\u001b[0m\u001b[0margs\u001b[0m\u001b[1;33m,\u001b[0m \u001b[1;33m**\u001b[0m\u001b[0mkargs\u001b[0m\u001b[1;33m)\u001b[0m\u001b[1;33m\u001b[0m\u001b[1;33m\u001b[0m\u001b[0m\n",
      "\u001b[1;32m~\\AppData\\Roaming\\Python\\Python38\\site-packages\\scapy\\arch\\windows\\native.py\u001b[0m in \u001b[0;36m__init__\u001b[1;34m(self, iface, proto, ttl, ipv6, promisc, **kwargs)\u001b[0m\n\u001b[0;32m    101\u001b[0m         \u001b[1;32mexcept\u001b[0m \u001b[0mOSError\u001b[0m \u001b[1;32mas\u001b[0m \u001b[0me\u001b[0m\u001b[1;33m:\u001b[0m\u001b[1;33m\u001b[0m\u001b[1;33m\u001b[0m\u001b[0m\n\u001b[0;32m    102\u001b[0m             \u001b[1;32mif\u001b[0m \u001b[0me\u001b[0m\u001b[1;33m.\u001b[0m\u001b[0merrno\u001b[0m \u001b[1;33m==\u001b[0m \u001b[1;36m10013\u001b[0m\u001b[1;33m:\u001b[0m\u001b[1;33m\u001b[0m\u001b[1;33m\u001b[0m\u001b[0m\n\u001b[1;32m--> 103\u001b[1;33m                 raise OSError(\"Windows native L3 Raw sockets are only \"\n\u001b[0m\u001b[0;32m    104\u001b[0m                               \u001b[1;34m\"usable as administrator ! \"\u001b[0m\u001b[1;33m\u001b[0m\u001b[1;33m\u001b[0m\u001b[0m\n\u001b[0;32m    105\u001b[0m                               \"Install Winpcap/Npcap to workaround !\")\n",
      "\u001b[1;31mOSError\u001b[0m: Windows native L3 Raw sockets are only usable as administrator ! Install Winpcap/Npcap to workaround !"
     ]
    }
   ],
   "source": [
    "sr1(request)"
   ]
  },
  {
   "cell_type": "code",
   "execution_count": 25,
   "metadata": {},
   "outputs": [],
   "source": [
    "from pythonping import ping\n"
   ]
  },
  {
   "cell_type": "code",
   "execution_count": 29,
   "metadata": {},
   "outputs": [],
   "source": [
    "r=ping('7.7.7.7')"
   ]
  },
  {
   "cell_type": "code",
   "execution_count": 33,
   "metadata": {},
   "outputs": [
    {
     "name": "stdout",
     "output_type": "stream",
     "text": [
      "Reply from 8.8.8.8, 9 bytes in 17.75ms\n",
      "Reply from 8.8.8.8, 9 bytes in 19.95ms\n",
      "Reply from 8.8.8.8, 9 bytes in 17.56ms\n",
      "Reply from 8.8.8.8, 9 bytes in 24.44ms\n"
     ]
    }
   ],
   "source": [
    "r2=ping('8.8.8.8', verbose=True)"
   ]
  },
  {
   "cell_type": "code",
   "execution_count": 34,
   "metadata": {},
   "outputs": [
    {
     "name": "stdout",
     "output_type": "stream",
     "text": [
      "Request timed out\r\n",
      "Request timed out\r\n",
      "Request timed out\r\n",
      "Request timed out\r\n",
      "\r\n",
      "Round Trip Times min/avg/max is 2000/2000.0/2000 ms\n"
     ]
    }
   ],
   "source": [
    "print (r)"
   ]
  },
  {
   "cell_type": "code",
   "execution_count": 35,
   "metadata": {},
   "outputs": [
    {
     "name": "stdout",
     "output_type": "stream",
     "text": [
      "Reply from 8.8.8.8, 9 bytes in 17.75ms\r\n",
      "Reply from 8.8.8.8, 9 bytes in 19.95ms\r\n",
      "Reply from 8.8.8.8, 9 bytes in 17.56ms\r\n",
      "Reply from 8.8.8.8, 9 bytes in 24.44ms\r\n",
      "\r\n",
      "Round Trip Times min/avg/max is 17.56/19.92/24.44 ms\n"
     ]
    }
   ],
   "source": [
    "print (r2)"
   ]
  },
  {
   "cell_type": "code",
   "execution_count": 36,
   "metadata": {},
   "outputs": [
    {
     "name": "stdout",
     "output_type": "stream",
     "text": [
      "Request timed out\n",
      "Request timed out\n",
      "Request timed out\n",
      "Request timed out\n"
     ]
    }
   ],
   "source": [
    "for l in r:\n",
    "    print (l)"
   ]
  },
  {
   "cell_type": "code",
   "execution_count": 37,
   "metadata": {},
   "outputs": [
    {
     "name": "stdout",
     "output_type": "stream",
     "text": [
      "<class 'pythonping.executor.ResponseList'>\n"
     ]
    }
   ],
   "source": [
    "print (type(r))"
   ]
  },
  {
   "cell_type": "code",
   "execution_count": 58,
   "metadata": {},
   "outputs": [],
   "source": [
    "hosts = ('1.1.1.1', '8.8.8.8', '9.9.9.9')\n",
    "\n",
    "r={}\n",
    "for h in hosts:\n",
    "    r[h] = ping (h)"
   ]
  },
  {
   "cell_type": "code",
   "execution_count": 64,
   "metadata": {},
   "outputs": [
    {
     "ename": "AttributeError",
     "evalue": "'dict' object has no attribute 'search'",
     "output_type": "error",
     "traceback": [
      "\u001b[1;31m---------------------------------------------------------------------------\u001b[0m",
      "\u001b[1;31mAttributeError\u001b[0m                            Traceback (most recent call last)",
      "\u001b[1;32m<ipython-input-64-bc2f8a9b55d6>\u001b[0m in \u001b[0;36m<module>\u001b[1;34m\u001b[0m\n\u001b[0;32m      1\u001b[0m \u001b[1;32mfor\u001b[0m \u001b[0mi\u001b[0m \u001b[1;32min\u001b[0m \u001b[0mr\u001b[0m\u001b[1;33m:\u001b[0m\u001b[1;33m\u001b[0m\u001b[1;33m\u001b[0m\u001b[0m\n\u001b[1;32m----> 2\u001b[1;33m     \u001b[0mmatch\u001b[0m\u001b[1;33m=\u001b[0m\u001b[0mr\u001b[0m\u001b[1;33m.\u001b[0m\u001b[0msearch\u001b[0m\u001b[1;33m(\u001b[0m\u001b[1;34mr'Replay'\u001b[0m\u001b[1;33m,\u001b[0m \u001b[0mr\u001b[0m\u001b[1;33m.\u001b[0m\u001b[0mvalues\u001b[0m\u001b[1;33m(\u001b[0m\u001b[1;33m)\u001b[0m\u001b[1;33m[\u001b[0m\u001b[0mi\u001b[0m\u001b[1;33m]\u001b[0m\u001b[1;33m)\u001b[0m\u001b[1;33m\u001b[0m\u001b[1;33m\u001b[0m\u001b[0m\n\u001b[0m",
      "\u001b[1;31mAttributeError\u001b[0m: 'dict' object has no attribute 'search'"
     ]
    }
   ],
   "source": [
    "for i in r:\n",
    "    match=r.search(r'Replay', r.values()[i])"
   ]
  },
  {
   "cell_type": "code",
   "execution_count": 65,
   "metadata": {},
   "outputs": [
    {
     "data": {
      "text/plain": [
       "{'1.1.1.1': Reply from 1.1.1.1, 9 bytes in 26.57ms\n",
       " Reply from 1.1.1.1, 9 bytes in 26.16ms\n",
       " Reply from 1.1.1.1, 9 bytes in 25.87ms\n",
       " Reply from 1.1.1.1, 9 bytes in 25.8ms\n",
       " \n",
       " Round Trip Times min/avg/max is 25.8/26.1/26.57 ms,\n",
       " '8.8.8.8': Reply from 8.8.8.8, 9 bytes in 17.06ms\n",
       " Reply from 8.8.8.8, 9 bytes in 18.77ms\n",
       " Reply from 8.8.8.8, 9 bytes in 18.93ms\n",
       " Reply from 8.8.8.8, 9 bytes in 18.75ms\n",
       " \n",
       " Round Trip Times min/avg/max is 17.06/18.38/18.93 ms,\n",
       " '9.9.9.9': Reply from 9.9.9.9, 9 bytes in 20.72ms\n",
       " Reply from 9.9.9.9, 9 bytes in 22.93ms\n",
       " Reply from 9.9.9.9, 9 bytes in 25.57ms\n",
       " Reply from 9.9.9.9, 9 bytes in 20.59ms\n",
       " \n",
       " Round Trip Times min/avg/max is 20.59/22.45/25.57 ms}"
      ]
     },
     "execution_count": 65,
     "metadata": {},
     "output_type": "execute_result"
    }
   ],
   "source": [
    "r\n"
   ]
  },
  {
   "cell_type": "code",
   "execution_count": 71,
   "metadata": {},
   "outputs": [],
   "source": [
    "for Key, Values in r.items():\n",
    "    cadena = str (Values)\n",
    "    t = cadena.count ('Reply')\n",
    "    \n",
    "    "
   ]
  },
  {
   "cell_type": "code",
   "execution_count": 73,
   "metadata": {},
   "outputs": [
    {
     "data": {
      "text/plain": [
       "dict_values([Reply from 1.1.1.1, 9 bytes in 26.57ms\n",
       "Reply from 1.1.1.1, 9 bytes in 26.16ms\n",
       "Reply from 1.1.1.1, 9 bytes in 25.87ms\n",
       "Reply from 1.1.1.1, 9 bytes in 25.8ms\n",
       "\n",
       "Round Trip Times min/avg/max is 25.8/26.1/26.57 ms, Reply from 8.8.8.8, 9 bytes in 17.06ms\n",
       "Reply from 8.8.8.8, 9 bytes in 18.77ms\n",
       "Reply from 8.8.8.8, 9 bytes in 18.93ms\n",
       "Reply from 8.8.8.8, 9 bytes in 18.75ms\n",
       "\n",
       "Round Trip Times min/avg/max is 17.06/18.38/18.93 ms, Reply from 9.9.9.9, 9 bytes in 20.72ms\n",
       "Reply from 9.9.9.9, 9 bytes in 22.93ms\n",
       "Reply from 9.9.9.9, 9 bytes in 25.57ms\n",
       "Reply from 9.9.9.9, 9 bytes in 20.59ms\n",
       "\n",
       "Round Trip Times min/avg/max is 20.59/22.45/25.57 ms])"
      ]
     },
     "execution_count": 73,
     "metadata": {},
     "output_type": "execute_result"
    }
   ],
   "source": [
    "r.values()\n"
   ]
  },
  {
   "cell_type": "code",
   "execution_count": 77,
   "metadata": {},
   "outputs": [],
   "source": [
    "cadena = str(r.values())"
   ]
  },
  {
   "cell_type": "code",
   "execution_count": 78,
   "metadata": {},
   "outputs": [
    {
     "data": {
      "text/plain": [
       "'dict_values([Reply from 1.1.1.1, 9 bytes in 26.57ms\\r\\nReply from 1.1.1.1, 9 bytes in 26.16ms\\r\\nReply from 1.1.1.1, 9 bytes in 25.87ms\\r\\nReply from 1.1.1.1, 9 bytes in 25.8ms\\r\\n\\r\\nRound Trip Times min/avg/max is 25.8/26.1/26.57 ms, Reply from 8.8.8.8, 9 bytes in 17.06ms\\r\\nReply from 8.8.8.8, 9 bytes in 18.77ms\\r\\nReply from 8.8.8.8, 9 bytes in 18.93ms\\r\\nReply from 8.8.8.8, 9 bytes in 18.75ms\\r\\n\\r\\nRound Trip Times min/avg/max is 17.06/18.38/18.93 ms, Reply from 9.9.9.9, 9 bytes in 20.72ms\\r\\nReply from 9.9.9.9, 9 bytes in 22.93ms\\r\\nReply from 9.9.9.9, 9 bytes in 25.57ms\\r\\nReply from 9.9.9.9, 9 bytes in 20.59ms\\r\\n\\r\\nRound Trip Times min/avg/max is 20.59/22.45/25.57 ms])'"
      ]
     },
     "execution_count": 78,
     "metadata": {},
     "output_type": "execute_result"
    }
   ],
   "source": [
    "cadena\n"
   ]
  },
  {
   "cell_type": "code",
   "execution_count": 79,
   "metadata": {},
   "outputs": [
    {
     "data": {
      "text/plain": [
       "12"
      ]
     },
     "execution_count": 79,
     "metadata": {},
     "output_type": "execute_result"
    }
   ],
   "source": [
    "cadena.count ('Reply')"
   ]
  },
  {
   "cell_type": "code",
   "execution_count": null,
   "metadata": {},
   "outputs": [],
   "source": []
  }
 ],
 "metadata": {
  "kernelspec": {
   "display_name": "Python 3",
   "language": "python",
   "name": "python3"
  },
  "language_info": {
   "codemirror_mode": {
    "name": "ipython",
    "version": 3
   },
   "file_extension": ".py",
   "mimetype": "text/x-python",
   "name": "python",
   "nbconvert_exporter": "python",
   "pygments_lexer": "ipython3",
   "version": "3.8.5"
  }
 },
 "nbformat": 4,
 "nbformat_minor": 4
}
