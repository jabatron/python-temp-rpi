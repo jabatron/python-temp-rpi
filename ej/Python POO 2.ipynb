{
 "metadata": {
  "language_info": {
   "codemirror_mode": {
    "name": "ipython",
    "version": 3
   },
   "file_extension": ".py",
   "mimetype": "text/x-python",
   "name": "python",
   "nbconvert_exporter": "python",
   "pygments_lexer": "ipython3",
   "version": "3.8.5-final"
  },
  "orig_nbformat": 2,
  "kernelspec": {
   "name": "Python 3.8.5 64-bit",
   "display_name": "Python 3.8.5 64-bit",
   "metadata": {
    "interpreter": {
     "hash": "1baa965d5efe3ac65b79dfc60c0d706280b1da80fedb7760faf2759126c4f253"
    }
   }
  }
 },
 "nbformat": 4,
 "nbformat_minor": 2,
 "cells": [
  {
   "source": [
    "#Herencia -> rehutilización de código\n"
   ],
   "cell_type": "markdown",
   "metadata": {}
  },
  {
   "cell_type": "code",
   "execution_count": 52,
   "metadata": {},
   "outputs": [],
   "source": [
    "class Persona:\n",
    "    def __init__(self, nombre, apellido, dni, edad):\n",
    "        self._nombre = nombre\n",
    "        self._apellido = apellido\n",
    "        self._dni = dni\n",
    "        self._edad = edad\n",
    "\n",
    "    def nombre(self):\n",
    "        return self._nombre\n",
    "    \n",
    "    def hablar(self):\n",
    "        return \"bla, bla, bla Persona\"\n",
    "\n",
    "    def pensar(self):\n",
    "        return \"Podría ser que ... Y si ...\""
   ]
  },
  {
   "cell_type": "code",
   "execution_count": 53,
   "metadata": {},
   "outputs": [],
   "source": [
    "class Empleado(Persona):\n",
    "    def __init__(self, nombre, apellid, dni, edad, sueldo, departamento):\n",
    "        super().__init__(nombre, apellid, dni, edad)\n",
    "        self._sueldo = sueldo\n",
    "        self.departamento = departamento\n",
    "\n",
    "        @property\n",
    "        def sueldo(self):\n",
    "            return self._sueldo\n",
    "\n",
    "        def hablar(self):\n",
    "            return \"bla, bla, bla Persona2\"\n"
   ]
  },
  {
   "cell_type": "code",
   "execution_count": 54,
   "metadata": {},
   "outputs": [],
   "source": [
    "juan_perez_cartero = Empleado ('Juan', 'Perez', '1111111h', 34, 18000, 'entregas')"
   ]
  },
  {
   "cell_type": "code",
   "execution_count": 55,
   "metadata": {},
   "outputs": [
    {
     "output_type": "execute_result",
     "data": {
      "text/plain": "'bla, bla, bla Persona'"
     },
     "metadata": {},
     "execution_count": 55
    }
   ],
   "source": [
    "\n",
    "juan_perez_cartero.hablar()\n"
   ]
  },
  {
   "cell_type": "code",
   "execution_count": null,
   "metadata": {},
   "outputs": [],
   "source": []
  }
 ]
}