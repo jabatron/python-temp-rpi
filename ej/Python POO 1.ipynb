{
 "cells": [
  {
   "cell_type": "code",
   "execution_count": null,
   "metadata": {},
   "outputs": [],
   "source": [
    "#Coche:estructura que te lleva de un punto A a un punto B conteniendo 4 ruedas, \n",
    "#    un motor, un chasis, sistema de centralita"
   ]
  },
  {
   "cell_type": "code",
   "execution_count": 23,
   "metadata": {},
   "outputs": [],
   "source": [
    "#clase motor con la posibilidad de encenderlo y apagarlo\n",
    "#update de coche para que use el motor recien diseñado\n",
    "class Motor:\n",
    "    \n",
    "    #comportamiento (API)\n",
    "    def encender(self):\n",
    "        return \"Motor encendido\"\n",
    "    \n",
    "    def apagar(self):\n",
    "        return \"Motor apagado\"\n",
    "    "
   ]
  },
  {
   "cell_type": "code",
   "execution_count": 58,
   "metadata": {},
   "outputs": [],
   "source": [
    "class Rueda:\n",
    "    #constructor\n",
    "    def __init__(self, posicion):\n",
    "        self._posicion = posicion\n",
    "        self._presion = 2.5\n",
    "    \n",
    "    @property\n",
    "    def presion(self):\n",
    "        return self._presion\n",
    "\n",
    "    @presion.setter\n",
    "    def presion(self, valor):\n",
    "        self._presion = valor\n",
    "\n",
    "    #comportamiento\n",
    "    def rodar(self):\n",
    "        return f'La rueda {self._posicion} Rodando...'\n",
    "    \n",
    "    def frenar(self):\n",
    "        return f'La rueda {self._posicion} Frenando...'\n",
    "    \n",
    "    #metodo estatico\n",
    "    @staticmethod\n",
    "    def girar(grados):\n",
    "        return f'Girando {grados} grados ...'\n"
   ]
  },
  {
   "cell_type": "code",
   "execution_count": 105,
   "metadata": {},
   "outputs": [],
   "source": [
    "#creacion de clase (tipo definido por el usuario)\n",
    "class Coche:\n",
    "    \n",
    "    #atributo de clase\n",
    "    marca = \"Seat\"\n",
    "\n",
    "    #propiedades (properties)\n",
    "    @property\n",
    "    def color(self):\n",
    "        return self._color\n",
    "    #constructor\n",
    "    def __init__(self,cilindrada, tipo_combustible,color='azul'):\n",
    "        self._color = color\n",
    "        self._motor = Motor.construir_motor(cilindrada, tipo_combustible)\n",
    "        self._ruedas = [Rueda('d-i'),Rueda('d-d'),Rueda('t-i'),Rueda('t-d')]\n",
    "    \n",
    "    #comportamiento\n",
    "    def pintar(self,nuevo_color):\n",
    "        self._color = nuevo_color\n",
    "    \n",
    "    def encender(self):\n",
    "        return self._motor.encender()\n",
    "    \n",
    "    def apagar(self):\n",
    "        return self._motor.apagar()\n",
    "\n",
    "    def iniciar_marcha(self):\n",
    "        for rueda in self._ruedas:\n",
    "            print (rueda.rodar())\n",
    "\n",
    "    def parar_marcha(self):\n",
    "        for rueda in self._ruedas:\n",
    "            print (rueda.frenar())\n",
    "\n",
    "    @classmethod\n",
    "    def crear_coche(cls, color, cilindrada, tipo_combustible):\n",
    "        return cls(cilindrada, tipo_combustible, color)\n",
    "    \n",
    "    def girar_volante(self, grados):\n",
    "        Rueda.girar(grados)\n",
    "\n",
    "    def __len__(self):\n",
    "        return len(self._ruedas)\n",
    "\n",
    "    def __str__ (self):\n",
    "        return f'Este coche es de color {self._color} y tiene {len(self._ruedas)} ruedas.'\n",
    "\n",
    "    def __eq__ (self, otro_coche):\n",
    "        assert isinstance(otro_coche, Coche), \"Incompatibilidad de tipos\"\n",
    "        return self._color == otro_coche._color\n",
    "\n",
    "    def __del__(self):\n",
    "        print (\"El objeto coche se ha destruido...\")\n"
   ]
  },
  {
   "cell_type": "code",
   "execution_count": 82,
   "metadata": {
    "tags": []
   },
   "outputs": [
    {
     "output_type": "stream",
     "name": "stdout",
     "text": "Motor encendido\nLa rueda d-i Rodando...\nLa rueda d-d Rodando...\nLa rueda t-i Rodando...\nLa rueda t-d Rodando...\nLa rueda d-i Frenando...\nLa rueda d-d Frenando...\nLa rueda t-i Frenando...\nLa rueda t-d Frenando...\nMotor apagado\nFalse\nTrue\n"
    }
   ],
   "source": [
    "#instanciación: a partir de una clase crear un objeto de tipo T (Coche)\n",
    "coche_rojo = Coche('rojo')\n",
    "otro_coche_rojo = Coche('rojo')\n",
    "coche_verde = Coche('verde')\n",
    "print(coche_rojo.encender())\n",
    "coche_rojo.iniciar_marcha()\n",
    "coche_rojo.parar_marcha()\n",
    "print(coche_rojo.apagar())\n",
    "len (coche_rojo)\n",
    "print (coche_rojo==coche_verde)\n",
    "\n",
    "print (coche_rojo==otro_coche_rojo)\n",
    "\n",
    "\n",
    "\n"
   ]
  },
  {
   "cell_type": "code",
   "execution_count": 64,
   "metadata": {
    "tags": []
   },
   "outputs": [
    {
     "output_type": "stream",
     "name": "stdout",
     "text": "Este coche es de color rojo y tiene 4 ruedas.\n"
    }
   ],
   "source": [
    "print(coche_rojo)"
   ]
  },
  {
   "cell_type": "code",
   "execution_count": 27,
   "metadata": {},
   "outputs": [
    {
     "name": "stdout",
     "output_type": "stream",
     "text": [
      "Motor apagado\n"
     ]
    }
   ],
   "source": [
    "print(coche_rojo.apagar())"
   ]
  },
  {
   "cell_type": "code",
   "execution_count": 11,
   "metadata": {},
   "outputs": [
    {
     "name": "stdout",
     "output_type": "stream",
     "text": [
      "rojo\n"
     ]
    }
   ],
   "source": [
    "print(coche_rojo.color)"
   ]
  },
  {
   "cell_type": "code",
   "execution_count": 12,
   "metadata": {},
   "outputs": [
    {
     "name": "stdout",
     "output_type": "stream",
     "text": [
      "verde\n"
     ]
    }
   ],
   "source": [
    "print(coche_verde.color)"
   ]
  },
  {
   "cell_type": "code",
   "execution_count": 13,
   "metadata": {},
   "outputs": [],
   "source": [
    "coche_verde.pintar('azul')"
   ]
  },
  {
   "cell_type": "code",
   "execution_count": 14,
   "metadata": {},
   "outputs": [
    {
     "name": "stdout",
     "output_type": "stream",
     "text": [
      "azul\n"
     ]
    }
   ],
   "source": [
    "print(coche_verde.color)"
   ]
  },
  {
   "cell_type": "code",
   "execution_count": 17,
   "metadata": {},
   "outputs": [
    {
     "name": "stdout",
     "output_type": "stream",
     "text": [
      "V8\n",
      "V8 Arrancado\n",
      "V8 Apagado\n"
     ]
    }
   ],
   "source": [
    "print(coche_rojo.motor)\n",
    "coche_rojo.encender()\n",
    "print(coche_rojo.motor)\n",
    "coche_rojo.apagar()\n",
    "print(coche_rojo.motor)"
   ]
  },
  {
   "cell_type": "code",
   "execution_count": null,
   "metadata": {},
   "outputs": [],
   "source": [
    "#PRINCIPIO DE ENCAPSULACION\n",
    "coche_rojo.color = 'amarillo'"
   ]
  },
  {
   "cell_type": "code",
   "execution_count": 87,
   "metadata": {},
   "outputs": [],
   "source": [
    "seat_ibiza=Coche('amarillo')\n",
    "seat_arosa=Coche('verde')"
   ]
  },
  {
   "cell_type": "code",
   "execution_count": 96,
   "metadata": {
    "tags": []
   },
   "outputs": [
    {
     "output_type": "stream",
     "name": "stdout",
     "text": "amarillo\nAudi\n"
    }
   ],
   "source": [
    "print(seat_ibiza.color)\n",
    "print(seat_ibiza.marca)"
   ]
  },
  {
   "cell_type": "code",
   "execution_count": 98,
   "metadata": {
    "tags": []
   },
   "outputs": [
    {
     "output_type": "stream",
     "name": "stdout",
     "text": "verde\nAudi\n"
    }
   ],
   "source": [
    "print(seat_arosa.color)\n",
    "print(seat_arosa.marca)"
   ]
  },
  {
   "cell_type": "code",
   "execution_count": 95,
   "metadata": {},
   "outputs": [],
   "source": [
    "seat_arosa.marca='Fiat'"
   ]
  },
  {
   "cell_type": "code",
   "execution_count": 94,
   "metadata": {},
   "outputs": [],
   "source": [
    "Coche.marca='Audi'"
   ]
  },
  {
   "cell_type": "code",
   "execution_count": 100,
   "metadata": {
    "tags": []
   },
   "outputs": [
    {
     "output_type": "stream",
     "name": "stdout",
     "text": "no se puede modificar\n"
    }
   ],
   "source": [
    "try:\n",
    "    del seat_arosa.marca\n",
    "except:\n",
    "    print ('no se puede modificar')"
   ]
  },
  {
   "cell_type": "code",
   "execution_count": 102,
   "metadata": {},
   "outputs": [],
   "source": [
    "#crear una fabrica de coche que construye coches y que una vez construido\n",
    "# los puerba, rodoando y apanado, Mandatory: usar patrón factoria en la construcción\n",
    "#no se creará ningún coche que no pase las pruebas\n"
   ]
  },
  {
   "cell_type": "code",
   "execution_count": 112,
   "metadata": {},
   "outputs": [],
   "source": [
    "class Fabrica:\n",
    "    #propiedades\n",
    "    @property\n",
    "    def unidades (self):\n",
    "        return (self._unidades)\n",
    "\n",
    "    #constructor\n",
    "    def __init__ (self):\n",
    "        self._coches = []\n",
    "\n",
    "    #comportamiento\n",
    "    @classmethod\n",
    "    def crear_coche (cls, color, cilindrada, tipo_combustible):\n",
    "        coche = Coche.crear_coche(color, cilindrada, tipo_combustible) \n",
    "        #if embebido en expresion\n",
    "        return coche if Fabrica.ejecutar_pruebas(coche) else None\n",
    "\n",
    "    @staticmethod\n",
    "    def ejecutar_pruebas(coche):\n",
    "        def arrancar_coche(coche):\n",
    "            try:\n",
    "                coche.enceder()\n",
    "                return True\n",
    "            except:\n",
    "                return False\n",
    "        \n",
    "        def rodar_coche(coche):\n",
    "            try:\n",
    "                coche.iniciar_marcha()\n",
    "                coche.detener_marcha()\n",
    "                return True\n",
    "            except:\n",
    "                return False\n",
    "        \n",
    "        def apagar_coche(coche):\n",
    "            try:\n",
    "                coche.apagar()\n",
    "                return True\n",
    "            except:\n",
    "                return False\n",
    "\n",
    "        return arrancar_coche(coche) and rodar_coche(coche) and apagar_coche(coche)\n",
    "        \n",
    "\n"
   ]
  },
  {
   "cell_type": "code",
   "execution_count": 109,
   "metadata": {},
   "outputs": [
    {
     "output_type": "error",
     "ename": "AttributeError",
     "evalue": "type object 'Motor' has no attribute 'construir_motor'",
     "traceback": [
      "\u001b[1;31m---------------------------------------------------------------------------\u001b[0m",
      "\u001b[1;31mAttributeError\u001b[0m                            Traceback (most recent call last)",
      "\u001b[1;32m<ipython-input-109-1d1ef7314969>\u001b[0m in \u001b[0;36m<module>\u001b[1;34m\u001b[0m\n\u001b[1;32m----> 1\u001b[1;33m \u001b[0mcoche_zero\u001b[0m \u001b[1;33m=\u001b[0m \u001b[0mFabrica\u001b[0m\u001b[1;33m.\u001b[0m\u001b[0mcrear_coche\u001b[0m\u001b[1;33m(\u001b[0m\u001b[1;34m'amarillo'\u001b[0m\u001b[1;33m,\u001b[0m \u001b[1;36m1700\u001b[0m\u001b[1;33m,\u001b[0m \u001b[1;34m'diesel'\u001b[0m\u001b[1;33m)\u001b[0m\u001b[1;33m\u001b[0m\u001b[1;33m\u001b[0m\u001b[0m\n\u001b[0m",
      "\u001b[1;32m<ipython-input-108-9d75e068ee4e>\u001b[0m in \u001b[0;36mcrear_coche\u001b[1;34m(cls, color, cilindrada, tipo_combustible)\u001b[0m\n\u001b[0;32m     12\u001b[0m     \u001b[1;33m@\u001b[0m\u001b[0mclassmethod\u001b[0m\u001b[1;33m\u001b[0m\u001b[1;33m\u001b[0m\u001b[0m\n\u001b[0;32m     13\u001b[0m     \u001b[1;32mdef\u001b[0m \u001b[0mcrear_coche\u001b[0m \u001b[1;33m(\u001b[0m\u001b[0mcls\u001b[0m\u001b[1;33m,\u001b[0m \u001b[0mcolor\u001b[0m\u001b[1;33m,\u001b[0m \u001b[0mcilindrada\u001b[0m\u001b[1;33m,\u001b[0m \u001b[0mtipo_combustible\u001b[0m\u001b[1;33m)\u001b[0m\u001b[1;33m:\u001b[0m\u001b[1;33m\u001b[0m\u001b[1;33m\u001b[0m\u001b[0m\n\u001b[1;32m---> 14\u001b[1;33m         \u001b[1;32mreturn\u001b[0m \u001b[0mCoche\u001b[0m\u001b[1;33m.\u001b[0m\u001b[0mcrear_coche\u001b[0m\u001b[1;33m(\u001b[0m\u001b[0mcolor\u001b[0m\u001b[1;33m,\u001b[0m \u001b[0mcilindrada\u001b[0m\u001b[1;33m,\u001b[0m \u001b[0mtipo_combustible\u001b[0m\u001b[1;33m)\u001b[0m\u001b[1;33m\u001b[0m\u001b[1;33m\u001b[0m\u001b[0m\n\u001b[0m",
      "\u001b[1;32m<ipython-input-105-c90ade8d9bf2>\u001b[0m in \u001b[0;36mcrear_coche\u001b[1;34m(cls, color, cilindrada, tipo_combustible)\u001b[0m\n\u001b[0;32m     35\u001b[0m     \u001b[1;33m@\u001b[0m\u001b[0mclassmethod\u001b[0m\u001b[1;33m\u001b[0m\u001b[1;33m\u001b[0m\u001b[0m\n\u001b[0;32m     36\u001b[0m     \u001b[1;32mdef\u001b[0m \u001b[0mcrear_coche\u001b[0m\u001b[1;33m(\u001b[0m\u001b[0mcls\u001b[0m\u001b[1;33m,\u001b[0m \u001b[0mcolor\u001b[0m\u001b[1;33m,\u001b[0m \u001b[0mcilindrada\u001b[0m\u001b[1;33m,\u001b[0m \u001b[0mtipo_combustible\u001b[0m\u001b[1;33m)\u001b[0m\u001b[1;33m:\u001b[0m\u001b[1;33m\u001b[0m\u001b[1;33m\u001b[0m\u001b[0m\n\u001b[1;32m---> 37\u001b[1;33m         \u001b[1;32mreturn\u001b[0m \u001b[0mcls\u001b[0m\u001b[1;33m(\u001b[0m\u001b[0mcilindrada\u001b[0m\u001b[1;33m,\u001b[0m \u001b[0mtipo_combustible\u001b[0m\u001b[1;33m,\u001b[0m \u001b[0mcolor\u001b[0m\u001b[1;33m)\u001b[0m\u001b[1;33m\u001b[0m\u001b[1;33m\u001b[0m\u001b[0m\n\u001b[0m\u001b[0;32m     38\u001b[0m \u001b[1;33m\u001b[0m\u001b[0m\n\u001b[0;32m     39\u001b[0m     \u001b[1;32mdef\u001b[0m \u001b[0mgirar_volante\u001b[0m\u001b[1;33m(\u001b[0m\u001b[0mself\u001b[0m\u001b[1;33m,\u001b[0m \u001b[0mgrados\u001b[0m\u001b[1;33m)\u001b[0m\u001b[1;33m:\u001b[0m\u001b[1;33m\u001b[0m\u001b[1;33m\u001b[0m\u001b[0m\n",
      "\u001b[1;32m<ipython-input-105-c90ade8d9bf2>\u001b[0m in \u001b[0;36m__init__\u001b[1;34m(self, cilindrada, tipo_combustible, color)\u001b[0m\n\u001b[0;32m     12\u001b[0m     \u001b[1;32mdef\u001b[0m \u001b[0m__init__\u001b[0m\u001b[1;33m(\u001b[0m\u001b[0mself\u001b[0m\u001b[1;33m,\u001b[0m\u001b[0mcilindrada\u001b[0m\u001b[1;33m,\u001b[0m \u001b[0mtipo_combustible\u001b[0m\u001b[1;33m,\u001b[0m\u001b[0mcolor\u001b[0m\u001b[1;33m=\u001b[0m\u001b[1;34m'azul'\u001b[0m\u001b[1;33m)\u001b[0m\u001b[1;33m:\u001b[0m\u001b[1;33m\u001b[0m\u001b[1;33m\u001b[0m\u001b[0m\n\u001b[0;32m     13\u001b[0m         \u001b[0mself\u001b[0m\u001b[1;33m.\u001b[0m\u001b[0m_color\u001b[0m \u001b[1;33m=\u001b[0m \u001b[0mcolor\u001b[0m\u001b[1;33m\u001b[0m\u001b[1;33m\u001b[0m\u001b[0m\n\u001b[1;32m---> 14\u001b[1;33m         \u001b[0mself\u001b[0m\u001b[1;33m.\u001b[0m\u001b[0m_motor\u001b[0m \u001b[1;33m=\u001b[0m \u001b[0mMotor\u001b[0m\u001b[1;33m.\u001b[0m\u001b[0mconstruir_motor\u001b[0m\u001b[1;33m(\u001b[0m\u001b[0mcilindrada\u001b[0m\u001b[1;33m,\u001b[0m \u001b[0mtipo_combustible\u001b[0m\u001b[1;33m)\u001b[0m\u001b[1;33m\u001b[0m\u001b[1;33m\u001b[0m\u001b[0m\n\u001b[0m\u001b[0;32m     15\u001b[0m         \u001b[0mself\u001b[0m\u001b[1;33m.\u001b[0m\u001b[0m_ruedas\u001b[0m \u001b[1;33m=\u001b[0m \u001b[1;33m[\u001b[0m\u001b[0mRueda\u001b[0m\u001b[1;33m(\u001b[0m\u001b[1;34m'd-i'\u001b[0m\u001b[1;33m)\u001b[0m\u001b[1;33m,\u001b[0m\u001b[0mRueda\u001b[0m\u001b[1;33m(\u001b[0m\u001b[1;34m'd-d'\u001b[0m\u001b[1;33m)\u001b[0m\u001b[1;33m,\u001b[0m\u001b[0mRueda\u001b[0m\u001b[1;33m(\u001b[0m\u001b[1;34m't-i'\u001b[0m\u001b[1;33m)\u001b[0m\u001b[1;33m,\u001b[0m\u001b[0mRueda\u001b[0m\u001b[1;33m(\u001b[0m\u001b[1;34m't-d'\u001b[0m\u001b[1;33m)\u001b[0m\u001b[1;33m]\u001b[0m\u001b[1;33m\u001b[0m\u001b[1;33m\u001b[0m\u001b[0m\n\u001b[0;32m     16\u001b[0m \u001b[1;33m\u001b[0m\u001b[0m\n",
      "\u001b[1;31mAttributeError\u001b[0m: type object 'Motor' has no attribute 'construir_motor'"
     ]
    }
   ],
   "source": [
    "coche_zero = Fabrica.crear_coche('amarillo', 1700, 'diesel')"
   ]
  },
  {
   "cell_type": "code",
   "execution_count": null,
   "metadata": {},
   "outputs": [],
   "source": []
  }
 ],
 "metadata": {
  "kernelspec": {
   "name": "Python 3.8.5 64-bit",
   "display_name": "Python 3.8.5 64-bit",
   "metadata": {
    "interpreter": {
     "hash": "1baa965d5efe3ac65b79dfc60c0d706280b1da80fedb7760faf2759126c4f253"
    }
   }
  },
  "language_info": {
   "codemirror_mode": {
    "name": "ipython",
    "version": 3
   },
   "file_extension": ".py",
   "mimetype": "text/x-python",
   "name": "python",
   "nbconvert_exporter": "python",
   "pygments_lexer": "ipython3",
   "version": "3.8.5-final"
  }
 },
 "nbformat": 4,
 "nbformat_minor": 4
}