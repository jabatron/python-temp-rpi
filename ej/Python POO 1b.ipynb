{
 "cells": [
  {
   "cell_type": "code",
   "execution_count": null,
   "metadata": {},
   "outputs": [],
   "source": [
    "#Coche:estructura que te lleva de un punto A a un punto B conteniendo 4 ruedas, \n",
    "#    un motor, un chasis, sistema de centralita"
   ]
  },
  {
   "cell_type": "code",
   "execution_count": 24,
   "metadata": {},
   "outputs": [],
   "source": [
    "#clase motor con la posibilidad de encenderlo y apagarlo\n",
    "#update de coche para que use el motor recien diseñado\n",
    "class Motor:\n",
    "    \n",
    "    #comportamiento (API)\n",
    "    def encender(self):\n",
    "        return \"Motor encendido\"\n",
    "    \n",
    "    def apagar(self):\n",
    "        return \"Motor apagado\"\n",
    "    "
   ]
  },
  {
   "cell_type": "code",
   "execution_count": 32,
   "metadata": {},
   "outputs": [],
   "source": [
    "class Rueda:\n",
    "    #constructor\n",
    "    def __init__(self, posicion):\n",
    "        self._posicion = posicion\n",
    "        self._presion = 2.5\n",
    "    \n",
    "    @property\n",
    "    def presion(self):\n",
    "        return self._presion\n",
    "    \n",
    "    @presion.setter\n",
    "    def presion(self, valor):\n",
    "        self._presion = valor\n",
    "    \n",
    "    #comportamoento\n",
    "    def rodar(self):\n",
    "        return f\"La rueda {self._posicion} rodando...\"\n",
    "    \n",
    "    def frenar(self):\n",
    "        return f\"La rueda {self._posicion} frenando...\"\n",
    "        \n",
    "        \n",
    "    \n"
   ]
  },
  {
   "cell_type": "code",
   "execution_count": 56,
   "metadata": {},
   "outputs": [],
   "source": [
    "#creacion de clase (tipo definido por el usuario)\n",
    "class Coche:\n",
    "    \n",
    "    #propiedades (properties)\n",
    "    @property\n",
    "    def color(self):\n",
    "        return self._color\n",
    "    \n",
    "    #constructor\n",
    "    def __init__(self,color='azul'):\n",
    "        self._color = color\n",
    "        self._motor = Motor()\n",
    "        self._ruedas = [Rueda('d-i'),Rueda('d-d'),Rueda('t-i'),Rueda('t-d')]\n",
    "    \n",
    "    #comportamiento\n",
    "    def pintar(self,nuevo_color):\n",
    "        self._color = nuevo_color\n",
    "    \n",
    "    def encender(self):\n",
    "        return self._motor.encender()\n",
    "    \n",
    "    def apagar(self):\n",
    "        return self._motor.apagar()\n",
    "    \n",
    "    def iniciar_marcha(self):\n",
    "        for rueda in self._ruedas:\n",
    "            print(rueda.rodar())\n",
    "    \n",
    "    def parar_marcha(self):\n",
    "        for rueda in self._ruedas:\n",
    "            print(rueda.frenar())\n",
    "            \n",
    "    def __len__(self):\n",
    "        return len(self._ruedas)\n",
    "    \n",
    "    def __str__(self):\n",
    "        return f\"Este coche es de color {self._color} y tiene {len(self._ruedas)} ruedas.\"\n",
    "    \n",
    "    def __del__(self):\n",
    "        print(\"El objeto coche se ha destruido\")\n",
    "    "
   ]
  },
  {
   "cell_type": "code",
   "execution_count": 58,
   "metadata": {},
   "outputs": [
    {
     "name": "stdout",
     "output_type": "stream",
     "text": [
      "Motor encendido\n",
      "La rueda d-i rodando...\n",
      "La rueda d-d rodando...\n",
      "La rueda t-i rodando...\n",
      "La rueda t-d rodando...\n",
      "La rueda d-i frenando...\n",
      "La rueda d-d frenando...\n",
      "La rueda t-i frenando...\n",
      "La rueda t-d frenando...\n",
      "Motor apagado\n",
      "El objeto coche se ha destruido\n"
     ]
    }
   ],
   "source": [
    "#instanciación: a partir de una clase crear un objeto de tipo T (Coche)\n",
    "coche_rojo = Coche('rojo')\n",
    "print(coche_rojo.encender())\n",
    "coche_rojo.iniciar_marcha()\n",
    "coche_rojo.parar_marcha()\n",
    "print(coche_rojo.apagar())\n",
    "coche_rojo = Coche('rojo')"
   ]
  },
  {
   "cell_type": "code",
   "execution_count": 52,
   "metadata": {},
   "outputs": [
    {
     "data": {
      "text/plain": [
       "4"
      ]
     },
     "execution_count": 52,
     "metadata": {},
     "output_type": "execute_result"
    }
   ],
   "source": [
    "len(coche_rojo)"
   ]
  },
  {
   "cell_type": "code",
   "execution_count": 53,
   "metadata": {},
   "outputs": [
    {
     "name": "stdout",
     "output_type": "stream",
     "text": [
      "Este coche es de color rojo y tiene 4 ruedas.\n"
     ]
    }
   ],
   "source": [
    "print(coche_rojo)"
   ]
  },
  {
   "cell_type": "code",
   "execution_count": 27,
   "metadata": {},
   "outputs": [
    {
     "name": "stdout",
     "output_type": "stream",
     "text": [
      "Motor apagado\n"
     ]
    }
   ],
   "source": [
    "print(coche_rojo.apagar())"
   ]
  },
  {
   "cell_type": "code",
   "execution_count": 11,
   "metadata": {},
   "outputs": [
    {
     "name": "stdout",
     "output_type": "stream",
     "text": [
      "rojo\n"
     ]
    }
   ],
   "source": [
    "print(coche_rojo.color)"
   ]
  },
  {
   "cell_type": "code",
   "execution_count": 12,
   "metadata": {},
   "outputs": [
    {
     "name": "stdout",
     "output_type": "stream",
     "text": [
      "verde\n"
     ]
    }
   ],
   "source": [
    "print(coche_verde.color)"
   ]
  },
  {
   "cell_type": "code",
   "execution_count": 13,
   "metadata": {},
   "outputs": [],
   "source": [
    "coche_verde.pintar('azul')"
   ]
  },
  {
   "cell_type": "code",
   "execution_count": 14,
   "metadata": {},
   "outputs": [
    {
     "name": "stdout",
     "output_type": "stream",
     "text": [
      "azul\n"
     ]
    }
   ],
   "source": [
    "print(coche_verde.color)"
   ]
  },
  {
   "cell_type": "code",
   "execution_count": 17,
   "metadata": {},
   "outputs": [
    {
     "name": "stdout",
     "output_type": "stream",
     "text": [
      "V8\n",
      "V8 Arrancado\n",
      "V8 Apagado\n"
     ]
    }
   ],
   "source": [
    "print(coche_rojo.motor)\n",
    "coche_rojo.encender()\n",
    "print(coche_rojo.motor)\n",
    "coche_rojo.apagar()\n",
    "print(coche_rojo.motor)"
   ]
  },
  {
   "cell_type": "code",
   "execution_count": null,
   "metadata": {},
   "outputs": [],
   "source": [
    "#PRINCIPIO DE ENCAPSULACION\n",
    "coche_rojo.color = 'amarillo'"
   ]
  }
 ],
 "metadata": {
  "kernelspec": {
   "display_name": "Python 3",
   "language": "python",
   "name": "python3"
  },
  "language_info": {
   "codemirror_mode": {
    "name": "ipython",
    "version": 3
   },
   "file_extension": ".py",
   "mimetype": "text/x-python",
   "name": "python",
   "nbconvert_exporter": "python",
   "pygments_lexer": "ipython3",
   "version": "3.7.4"
  }
 },
 "nbformat": 4,
 "nbformat_minor": 4
}
