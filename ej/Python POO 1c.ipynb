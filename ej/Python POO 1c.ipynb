{
 "cells": [
  {
   "cell_type": "code",
   "execution_count": null,
   "metadata": {},
   "outputs": [],
   "source": [
    "#Coche:estructura que te lleva de un punto A a un punto B conteniendo 4 ruedas, \n",
    "#    un motor, un chasis, sistema de centralita"
   ]
  },
  {
   "cell_type": "code",
   "execution_count": 99,
   "metadata": {},
   "outputs": [],
   "source": [
    "#clase motor con la posibilidad de encenderlo y apagarlo\n",
    "#update de coche para que use el motor recien diseñado\n",
    "class Motor:\n",
    "    \n",
    "    marca = \"Benz\"\n",
    "    \n",
    "    def __init__(self, cilindrada, tipo):\n",
    "        self._tipo = tipo\n",
    "        self._cilindrada = cilindrada\n",
    "    \n",
    "    #comportamiento (API)\n",
    "    def encender(self):\n",
    "        return \"Motor encendido\"\n",
    "    \n",
    "    def apagar(self):\n",
    "        return \"Motor apagado\"\n",
    "    \n",
    "    @classmethod\n",
    "    def construir_motor(cls,cilindrada, tipo):\n",
    "        print(cls.marca)\n",
    "        return cls(cilindrada, tipo) \n",
    "    "
   ]
  },
  {
   "cell_type": "code",
   "execution_count": 100,
   "metadata": {},
   "outputs": [],
   "source": [
    "class Rueda:\n",
    "    #constructor\n",
    "    def __init__(self, posicion):\n",
    "        self._posicion = posicion\n",
    "        self._presion = 2.5\n",
    "    \n",
    "    @property\n",
    "    def presion(self):\n",
    "        return self._presion\n",
    "    \n",
    "    @presion.setter\n",
    "    def presion(self, valor):\n",
    "        self._presion = valor\n",
    "    \n",
    "    #comportamoento\n",
    "    def rodar(self):\n",
    "        return f\"La rueda {self._posicion} rodando...\"\n",
    "    \n",
    "    def frenar(self):\n",
    "        return f\"La rueda {self._posicion} frenando...\"\n",
    "    \n",
    "    @staticmethod\n",
    "    def girar(grados):\n",
    "        return f\"Girando {grados} grados...\"\n",
    "    \n",
    "    \n",
    "        \n",
    "        \n"
   ]
  },
  {
   "cell_type": "code",
   "execution_count": 104,
   "metadata": {},
   "outputs": [],
   "source": [
    "#creacion de clase (tipo definido por el usuario)\n",
    "class Coche:\n",
    "    \n",
    "    #atributo de clase\n",
    "    marca = \"Seat\"\n",
    "    \n",
    "    #propiedades (properties)\n",
    "    @property\n",
    "    def color(self):\n",
    "        return self._color\n",
    "    \n",
    "    #constructor\n",
    "    def __init__(self, cilindrada, tipo_combustible, color='azul'):\n",
    "        self._color = color\n",
    "        self._motor = Motor.construir_motor(cilindrada,tipo_combustible)\n",
    "        self._ruedas = [Rueda('d-i'),Rueda('d-d'),Rueda('t-i'),Rueda('t-d')]\n",
    "    \n",
    "    #comportamiento\n",
    "    def pintar(self,nuevo_color):\n",
    "        self._color = nuevo_color\n",
    "    \n",
    "    def encender(self):\n",
    "        return self._motor.encender()\n",
    "    \n",
    "    def apagar(self):\n",
    "        return self._motor.apagar()\n",
    "    \n",
    "    def iniciar_marcha(self):\n",
    "        for rueda in self._ruedas:\n",
    "            print(rueda.rodar())\n",
    "    \n",
    "    def parar_marcha(self):\n",
    "        for rueda in self._ruedas:\n",
    "            print(rueda.frenar())\n",
    "    \n",
    "    def girar_volante(self, grados):\n",
    "        return Rueda.girar(grados)\n",
    "    \n",
    "    @classmethod\n",
    "    def crear_coche(cls, color, cilindrada, tipo_combustible):\n",
    "        #orquestacion\n",
    "        if cilindrada > 1000:\n",
    "            return cls(cilindrada, tipo_combustible, 'amarillo')\n",
    "        else:\n",
    "            return cls(cilindrada, tipo_combustible, 'rojo')\n",
    "    \n",
    "    def __len__(self):\n",
    "        return len(self._ruedas)\n",
    "    \n",
    "    def __str__(self):\n",
    "        return f\"Este coche es de color {self._color} y tiene {len(self._ruedas)} ruedas.\"\n",
    "    \n",
    "    def __eq__(self, otro_coche):\n",
    "        assert isinstance(otro_coche, Coche), \"Incompatibilidad de tipos\"\n",
    "        return self._color == otro_coche.color\n",
    "    \n",
    "    def __del__(self):\n",
    "        print(\"El objeto coche se ha destruido\")\n",
    "    \n",
    "    \n",
    "    "
   ]
  },
  {
   "cell_type": "code",
   "execution_count": 102,
   "metadata": {},
   "outputs": [
    {
     "name": "stdout",
     "output_type": "stream",
     "text": [
      "Motor encendido\n",
      "La rueda d-i rodando...\n",
      "La rueda d-d rodando...\n",
      "La rueda t-i rodando...\n",
      "La rueda t-d rodando...\n",
      "Girando 120 grados...\n",
      "La rueda d-i frenando...\n",
      "La rueda d-d frenando...\n",
      "La rueda t-i frenando...\n",
      "La rueda t-d frenando...\n",
      "Motor apagado\n"
     ]
    }
   ],
   "source": [
    "#instanciación: a partir de una clase crear un objeto de tipo T (Coche)\n",
    "coche_rojo = Coche('rojo')\n",
    "print(coche_rojo.encender())\n",
    "coche_rojo.iniciar_marcha()\n",
    "print(coche_rojo.girar_volante(120))\n",
    "coche_rojo.parar_marcha()\n",
    "print(coche_rojo.apagar())\n"
   ]
  },
  {
   "cell_type": "code",
   "execution_count": 74,
   "metadata": {},
   "outputs": [],
   "source": [
    "coche_verde = Coche('verde')"
   ]
  },
  {
   "cell_type": "code",
   "execution_count": 75,
   "metadata": {},
   "outputs": [
    {
     "name": "stdout",
     "output_type": "stream",
     "text": [
      "False\n"
     ]
    }
   ],
   "source": [
    "print(coche_rojo == coche_verde)"
   ]
  },
  {
   "cell_type": "code",
   "execution_count": 76,
   "metadata": {},
   "outputs": [],
   "source": [
    "otro_coche_rojo = Coche('rojo')"
   ]
  },
  {
   "cell_type": "code",
   "execution_count": 77,
   "metadata": {},
   "outputs": [
    {
     "name": "stdout",
     "output_type": "stream",
     "text": [
      "True\n"
     ]
    }
   ],
   "source": [
    "print(coche_rojo == otro_coche_rojo)"
   ]
  },
  {
   "cell_type": "code",
   "execution_count": 78,
   "metadata": {},
   "outputs": [
    {
     "name": "stdout",
     "output_type": "stream",
     "text": [
      "Incompatibilidad de tipos\n"
     ]
    }
   ],
   "source": [
    "try:\n",
    "    print(coche_rojo == Motor())\n",
    "except AssertionError as ase:\n",
    "    print(ase)\n",
    "    "
   ]
  },
  {
   "cell_type": "code",
   "execution_count": 52,
   "metadata": {},
   "outputs": [
    {
     "data": {
      "text/plain": [
       "4"
      ]
     },
     "execution_count": 52,
     "metadata": {},
     "output_type": "execute_result"
    }
   ],
   "source": [
    "len(coche_rojo)"
   ]
  },
  {
   "cell_type": "code",
   "execution_count": 53,
   "metadata": {},
   "outputs": [
    {
     "name": "stdout",
     "output_type": "stream",
     "text": [
      "Este coche es de color rojo y tiene 4 ruedas.\n"
     ]
    }
   ],
   "source": [
    "print(coche_rojo)"
   ]
  },
  {
   "cell_type": "code",
   "execution_count": 27,
   "metadata": {},
   "outputs": [
    {
     "name": "stdout",
     "output_type": "stream",
     "text": [
      "Motor apagado\n"
     ]
    }
   ],
   "source": [
    "print(coche_rojo.apagar())"
   ]
  },
  {
   "cell_type": "code",
   "execution_count": 11,
   "metadata": {},
   "outputs": [
    {
     "name": "stdout",
     "output_type": "stream",
     "text": [
      "rojo\n"
     ]
    }
   ],
   "source": [
    "print(coche_rojo.color)"
   ]
  },
  {
   "cell_type": "code",
   "execution_count": 12,
   "metadata": {},
   "outputs": [
    {
     "name": "stdout",
     "output_type": "stream",
     "text": [
      "verde\n"
     ]
    }
   ],
   "source": [
    "print(coche_verde.color)"
   ]
  },
  {
   "cell_type": "code",
   "execution_count": 13,
   "metadata": {},
   "outputs": [],
   "source": [
    "coche_verde.pintar('azul')"
   ]
  },
  {
   "cell_type": "code",
   "execution_count": 14,
   "metadata": {},
   "outputs": [
    {
     "name": "stdout",
     "output_type": "stream",
     "text": [
      "azul\n"
     ]
    }
   ],
   "source": [
    "print(coche_verde.color)"
   ]
  },
  {
   "cell_type": "code",
   "execution_count": 17,
   "metadata": {},
   "outputs": [
    {
     "name": "stdout",
     "output_type": "stream",
     "text": [
      "V8\n",
      "V8 Arrancado\n",
      "V8 Apagado\n"
     ]
    }
   ],
   "source": [
    "print(coche_rojo.motor)\n",
    "coche_rojo.encender()\n",
    "print(coche_rojo.motor)\n",
    "coche_rojo.apagar()\n",
    "print(coche_rojo.motor)"
   ]
  },
  {
   "cell_type": "code",
   "execution_count": null,
   "metadata": {},
   "outputs": [],
   "source": [
    "#PRINCIPIO DE ENCAPSULACION\n",
    "coche_rojo.color = 'amarillo'"
   ]
  },
  {
   "cell_type": "code",
   "execution_count": 80,
   "metadata": {},
   "outputs": [],
   "source": [
    "seat_ibiza = Coche('amarillo')"
   ]
  },
  {
   "cell_type": "code",
   "execution_count": 81,
   "metadata": {},
   "outputs": [
    {
     "name": "stdout",
     "output_type": "stream",
     "text": [
      "amarillo\n"
     ]
    }
   ],
   "source": [
    "print(seat_ibiza.color)"
   ]
  },
  {
   "cell_type": "code",
   "execution_count": 82,
   "metadata": {},
   "outputs": [
    {
     "name": "stdout",
     "output_type": "stream",
     "text": [
      "Seat\n"
     ]
    }
   ],
   "source": [
    "print(seat_ibiza.marca)"
   ]
  },
  {
   "cell_type": "code",
   "execution_count": 83,
   "metadata": {},
   "outputs": [
    {
     "name": "stdout",
     "output_type": "stream",
     "text": [
      "Seat\n"
     ]
    }
   ],
   "source": [
    "seat_arosa = Coche('verde')\n",
    "print(seat_arosa.marca)"
   ]
  },
  {
   "cell_type": "code",
   "execution_count": 84,
   "metadata": {},
   "outputs": [],
   "source": [
    "seat_arosa.marca = \"Fiat\""
   ]
  },
  {
   "cell_type": "code",
   "execution_count": 85,
   "metadata": {},
   "outputs": [
    {
     "name": "stdout",
     "output_type": "stream",
     "text": [
      "Fiat\n"
     ]
    }
   ],
   "source": [
    "print(seat_arosa.marca)"
   ]
  },
  {
   "cell_type": "code",
   "execution_count": 86,
   "metadata": {},
   "outputs": [
    {
     "name": "stdout",
     "output_type": "stream",
     "text": [
      "Seat\n"
     ]
    }
   ],
   "source": [
    "print(seat_ibiza.marca)"
   ]
  },
  {
   "cell_type": "code",
   "execution_count": 87,
   "metadata": {},
   "outputs": [],
   "source": [
    "Coche.marca = \"Audi\""
   ]
  },
  {
   "cell_type": "code",
   "execution_count": 88,
   "metadata": {},
   "outputs": [
    {
     "name": "stdout",
     "output_type": "stream",
     "text": [
      "Fiat\n"
     ]
    }
   ],
   "source": [
    "print(seat_arosa.marca)"
   ]
  },
  {
   "cell_type": "code",
   "execution_count": 89,
   "metadata": {},
   "outputs": [
    {
     "name": "stdout",
     "output_type": "stream",
     "text": [
      "Audi\n"
     ]
    }
   ],
   "source": [
    "print(seat_ibiza.marca)"
   ]
  },
  {
   "cell_type": "code",
   "execution_count": 90,
   "metadata": {},
   "outputs": [],
   "source": [
    "del seat_arosa.marca"
   ]
  },
  {
   "cell_type": "code",
   "execution_count": 91,
   "metadata": {},
   "outputs": [
    {
     "name": "stdout",
     "output_type": "stream",
     "text": [
      "Audi\n"
     ]
    }
   ],
   "source": [
    "print(seat_arosa.marca)"
   ]
  },
  {
   "cell_type": "code",
   "execution_count": null,
   "metadata": {},
   "outputs": [],
   "source": [
    "#Crear una fabrica de coches que construye coches y que una vez construidos, \n",
    "#los prueba arrancando, rodando y apagado el coche. Mandatory: usar patrón factoria en la construcción\n",
    "#No se creará ningún coche que no pase las pruebas (test de calidad)"
   ]
  },
  {
   "cell_type": "code",
   "execution_count": 111,
   "metadata": {},
   "outputs": [],
   "source": [
    "class Fabrica:\n",
    "    \n",
    "    def __init__(self):\n",
    "        self._coches = []\n",
    "    \n",
    "    @classmethod\n",
    "    def crear_coche(cls,color, cilindrada, tipo_combustible):\n",
    "        coche = Coche.crear_coche(color, cilindrada, tipo_combustible) \n",
    "        #if embebido en expresion\n",
    "        return coche if Fabrica.ejecutar_pruebas(coche) else None\n",
    "    \n",
    "    @staticmethod\n",
    "    def ejecutar_pruebas(coche):\n",
    "        def arrancar_coche(coche):\n",
    "            try:\n",
    "                coche.encender()\n",
    "                print('Encender')\n",
    "                return True\n",
    "            except:\n",
    "                return False\n",
    "        \n",
    "        def rodar_coche(coche):\n",
    "            try:\n",
    "                coche.iniciar_marcha()\n",
    "                coche.parar_marcha()\n",
    "                print('Iniciar/parar')\n",
    "                return True\n",
    "            except:\n",
    "                return False\n",
    "        \n",
    "        def apagar_coche(coche):\n",
    "            try:\n",
    "                coche.apagar()\n",
    "                print('Apagar')\n",
    "                return True\n",
    "            except:\n",
    "                return False\n",
    "        \n",
    "        return arrancar_coche(coche) and rodar_coche(coche) and apagar_coche(coche)\n",
    "        \n",
    "    "
   ]
  },
  {
   "cell_type": "code",
   "execution_count": 112,
   "metadata": {},
   "outputs": [
    {
     "name": "stdout",
     "output_type": "stream",
     "text": [
      "Encender\n",
      "La rueda d-i rodando...\n",
      "La rueda d-d rodando...\n",
      "La rueda t-i rodando...\n",
      "La rueda t-d rodando...\n",
      "La rueda d-i frenando...\n",
      "La rueda d-d frenando...\n",
      "La rueda t-i frenando...\n",
      "La rueda t-d frenando...\n",
      "Iniciar/parar\n",
      "Apagar\n",
      "Este coche es de color amarillo y tiene 4 ruedas.\n"
     ]
    }
   ],
   "source": [
    "coche_zero = Fabrica.crear_coche('amarillo', 1700,'diesel')\n",
    "if coche_zero is None:\n",
    "    print(\"No ha sido posible crear el primer coche\")\n",
    "else:\n",
    "    print(coche_zero)"
   ]
  },
  {
   "cell_type": "code",
   "execution_count": null,
   "metadata": {},
   "outputs": [],
   "source": []
  }
 ],
 "metadata": {
  "kernelspec": {
   "display_name": "Python 3",
   "language": "python",
   "name": "python3"
  },
  "language_info": {
   "codemirror_mode": {
    "name": "ipython",
    "version": 3
   },
   "file_extension": ".py",
   "mimetype": "text/x-python",
   "name": "python",
   "nbconvert_exporter": "python",
   "pygments_lexer": "ipython3",
   "version": "3.7.4"
  }
 },
 "nbformat": 4,
 "nbformat_minor": 4
}
