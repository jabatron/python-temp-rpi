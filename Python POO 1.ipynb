{
 "metadata": {
  "language_info": {
   "codemirror_mode": {
    "name": "ipython",
    "version": 3
   },
   "file_extension": ".py",
   "mimetype": "text/x-python",
   "name": "python",
   "nbconvert_exporter": "python",
   "pygments_lexer": "ipython3",
   "version": "3.8.5-final"
  },
  "orig_nbformat": 2,
  "kernelspec": {
   "name": "Python 3.8.5 64-bit",
   "display_name": "Python 3.8.5 64-bit",
   "metadata": {
    "interpreter": {
     "hash": "1baa965d5efe3ac65b79dfc60c0d706280b1da80fedb7760faf2759126c4f253"
    }
   }
  }
 },
 "nbformat": 4,
 "nbformat_minor": 2,
 "cells": [
  {
   "source": [
    "#POO"
   ],
   "cell_type": "markdown",
   "metadata": {}
  },
  {
   "cell_type": "code",
   "execution_count": 57,
   "metadata": {},
   "outputs": [],
   "source": [
    "#Creación de clase (tipo definido por el usuario)\n",
    "class Coche:\n",
    "    #constructor\n",
    "    def __init__(self,color='azul'):\n",
    "        self._color = color\n",
    "        self._motor = Motor()\n",
    "\n",
    "    #propiedades (properties)\n",
    "    @property\n",
    "    def color(self):\n",
    "        return self._color\n",
    "\n",
    "    @color.setter\n",
    "    def color(self,nuevo_color):\n",
    "        self._color = nuevo_color\n",
    "\n",
    "    #comportamiento\n",
    "    def pintar(self,nuevo_color):\n",
    "        self._color = nuevo_color\n",
    "\n",
    "    def encender(self):\n",
    "        self._motor.encender()\n",
    "\n",
    "    def apagar(self):\n",
    "        self._motor.apagar()"
   ]
  },
  {
   "cell_type": "code",
   "execution_count": 58,
   "metadata": {},
   "outputs": [],
   "source": [
    "class Motor:\n",
    "   \n",
    "    #comportamiento\n",
    "    def encender(self):\n",
    "        return 'Motor encencido'\n",
    "    \n",
    "    def apagar(self):\n",
    "        return 'Motor apagado'\n",
    "\n",
    "    def cambiar_estado(self):\n",
    "        if self_estado == 'encendido':\n",
    "            self_estado = 'apagado'\n",
    "        else:\n",
    "            self_estado = 'encendido'"
   ]
  },
  {
   "cell_type": "code",
   "execution_count": 59,
   "metadata": {
    "tags": []
   },
   "outputs": [
    {
     "output_type": "stream",
     "name": "stdout",
     "text": "None\n"
    }
   ],
   "source": [
    "#instanciación: a partir de una clase crear un obejto de tipo T (Coche)\n",
    "coche_rojo = Coche('rojo')\n",
    "print (coche_rojo.encender())\n",
    "\n"
   ]
  },
  {
   "cell_type": "code",
   "execution_count": 17,
   "metadata": {},
   "outputs": [
    {
     "output_type": "execute_result",
     "data": {
      "text/plain": "__main__.Coche"
     },
     "metadata": {},
     "execution_count": 17
    }
   ],
   "source": [
    "type(coche_rojo)"
   ]
  },
  {
   "cell_type": "code",
   "execution_count": 18,
   "metadata": {
    "tags": []
   },
   "outputs": [
    {
     "output_type": "stream",
     "name": "stdout",
     "text": "rojo\n"
    }
   ],
   "source": [
    "print (coche_rojo.color)"
   ]
  },
  {
   "cell_type": "code",
   "execution_count": 19,
   "metadata": {
    "tags": []
   },
   "outputs": [
    {
     "output_type": "stream",
     "name": "stdout",
     "text": "verde\n"
    }
   ],
   "source": [
    "print (coche_verde.color)"
   ]
  },
  {
   "cell_type": "code",
   "execution_count": 25,
   "metadata": {},
   "outputs": [],
   "source": [
    "coche_verde.pintar('azul')"
   ]
  },
  {
   "cell_type": "code",
   "execution_count": 26,
   "metadata": {
    "tags": []
   },
   "outputs": [
    {
     "output_type": "stream",
     "name": "stdout",
     "text": "azul\n"
    }
   ],
   "source": [
    "print(coche_verde.color)"
   ]
  },
  {
   "cell_type": "code",
   "execution_count": 30,
   "metadata": {
    "tags": []
   },
   "outputs": [
    {
     "output_type": "stream",
     "name": "stdout",
     "text": "V8 Arrancado\nV8 Arrancado\nV8 Apagado\n"
    }
   ],
   "source": [
    "print(coche_rojo.motor)\n",
    "coche_rojo.encender()\n",
    "print(coche_rojo.motor)\n",
    "coche_rojo.apagar()\n",
    "print(coche_rojo.motor)"
   ]
  },
  {
   "source": [
    "##PRINCIPIO DE ENCAPSULACION\n"
   ],
   "cell_type": "markdown",
   "metadata": {}
  },
  {
   "cell_type": "code",
   "execution_count": null,
   "metadata": {},
   "outputs": [],
   "source": []
  }
 ]
}